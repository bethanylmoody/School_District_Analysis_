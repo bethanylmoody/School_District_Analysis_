{
 "cells": [
  {
   "cell_type": "code",
   "execution_count": 3,
   "id": "36d9f370",
   "metadata": {},
   "outputs": [],
   "source": [
    "import pandas as pd"
   ]
  },
  {
   "cell_type": "code",
   "execution_count": 4,
   "id": "6d01d7e0",
   "metadata": {},
   "outputs": [],
   "source": [
    "# List of high schools\n",
    "high_schools = [\"Hernandez High School\", \"Figueroa High School\",\n",
    "                \"Wilson High School\",\"Wright High School\"]"
   ]
  },
  {
   "cell_type": "code",
   "execution_count": 5,
   "id": "27d1bd1c",
   "metadata": {},
   "outputs": [],
   "source": [
    "school_series = pd.Series(high_schools)"
   ]
  },
  {
   "cell_type": "code",
   "execution_count": 6,
   "id": "5aa14e26",
   "metadata": {},
   "outputs": [
    {
     "data": {
      "text/plain": [
       "0    Hernandez High School\n",
       "1     Figueroa High School\n",
       "2       Wilson High School\n",
       "3       Wright High School\n",
       "dtype: object"
      ]
     },
     "execution_count": 6,
     "metadata": {},
     "output_type": "execute_result"
    }
   ],
   "source": [
    "school_series"
   ]
  },
  {
   "cell_type": "code",
   "execution_count": 7,
   "id": "018cbcf1",
   "metadata": {},
   "outputs": [
    {
     "name": "stdout",
     "output_type": "stream",
     "text": [
      "Hernandez High School\n",
      "Figueroa High School\n",
      "Wilson High School\n",
      "Wright High School\n"
     ]
    }
   ],
   "source": [
    "for school in high_schools:\n",
    "    print(school)\n"
   ]
  },
  {
   "cell_type": "code",
   "execution_count": null,
   "id": "b9f86eea",
   "metadata": {},
   "outputs": [],
   "source": [
    "# A dictionary of high schools and the type of school.\n",
    "high_school_types = [{\"High School\": \"Griffin\", \"Type\":\"District\"},\n",
    "                    {\"High School\": \"Figueroa\", \"Type\": \"District\"},\n",
    "                    {\"High School\": \"Wilson\", \"Type\": \"Charter\"},\n",
    "                    {\"High School\": \"Wright\", \"Type\": \"Charter\"}]"
   ]
  },
  {
   "cell_type": "code",
   "execution_count": null,
   "id": "f94596f0",
   "metadata": {},
   "outputs": [],
   "source": [
    "print(high_school_types)\n"
   ]
  },
  {
   "cell_type": "code",
   "execution_count": null,
   "id": "b4478a5b",
   "metadata": {},
   "outputs": [],
   "source": [
    "dir()"
   ]
  },
  {
   "cell_type": "code",
   "execution_count": null,
   "id": "d5ec3b48",
   "metadata": {},
   "outputs": [],
   "source": [
    " for key in a_dict:\n",
    "...     print(key)\n"
   ]
  },
  {
   "cell_type": "code",
   "execution_count": null,
   "id": "c8713b1f",
   "metadata": {},
   "outputs": [],
   "source": [
    "# List of high schools\n",
    "high_schools = [\"Huang High School\",  \"Figueroa High School\", \"Shelton High School\", \"Hernandez High School\",\"Griffin High School\",\"Wilson High School\", \"Cabrera High School\", \"Bailey High School\", \"Holden High School\", \"Pena High School\", \"Wright High School\",\"Rodriguez High School\", \"Johnson High School\", \"Ford High School\", \"Thomas High School\"]"
   ]
  },
  {
   "cell_type": "code",
   "execution_count": null,
   "id": "31e4b22c",
   "metadata": {},
   "outputs": [],
   "source": [
    "# Add the Pandas dependency.\n",
    "import pandas as pd"
   ]
  },
  {
   "cell_type": "code",
   "execution_count": null,
   "id": "f7be4ece",
   "metadata": {},
   "outputs": [],
   "source": [
    "import pandas as pd"
   ]
  },
  {
   "cell_type": "code",
   "execution_count": null,
   "id": "bc48a8dc",
   "metadata": {},
   "outputs": [],
   "source": [
    "pandas.Series()\n"
   ]
  },
  {
   "cell_type": "code",
   "execution_count": null,
   "id": "29c25cb5",
   "metadata": {},
   "outputs": [],
   "source": [
    "pandas.Series()"
   ]
  },
  {
   "cell_type": "code",
   "execution_count": null,
   "id": "ba1c7d96",
   "metadata": {},
   "outputs": [],
   "source": [
    "import pandas as pd"
   ]
  },
  {
   "cell_type": "code",
   "execution_count": null,
   "id": "ffe1c892",
   "metadata": {},
   "outputs": [],
   "source": [
    "import pandas\n",
    "pandas.__version__"
   ]
  },
  {
   "cell_type": "code",
   "execution_count": null,
   "id": "3eef29f5",
   "metadata": {},
   "outputs": [],
   "source": [
    "add the pandas dependency.\n",
    "import panda series as pd\n"
   ]
  },
  {
   "cell_type": "code",
   "execution_count": null,
   "id": "9e76500f",
   "metadata": {},
   "outputs": [],
   "source": [
    "# Add the Pandas dependency.\n",
    "import pandas as pd"
   ]
  },
  {
   "cell_type": "code",
   "execution_count": null,
   "id": "53cb4457",
   "metadata": {},
   "outputs": [],
   "source": [
    "# Add the Pandas dependency.\n",
    "import pandas as pd"
   ]
  },
  {
   "cell_type": "code",
   "execution_count": null,
   "id": "4a818986",
   "metadata": {},
   "outputs": [],
   "source": [
    "import pandas as pd"
   ]
  },
  {
   "cell_type": "code",
   "execution_count": null,
   "id": "eb4985c5",
   "metadata": {},
   "outputs": [],
   "source": [
    "school_series = pd.Series(high_schools)"
   ]
  },
  {
   "cell_type": "code",
   "execution_count": null,
   "id": "b9c396df",
   "metadata": {},
   "outputs": [],
   "source": [
    "import"
   ]
  },
  {
   "cell_type": "code",
   "execution_count": null,
   "id": "87fab438",
   "metadata": {},
   "outputs": [],
   "source": [
    "for school in high_Schools:\n",
    "    print(school)"
   ]
  },
  {
   "cell_type": "code",
   "execution_count": null,
   "id": "5307328b",
   "metadata": {},
   "outputs": [],
   "source": [
    "print high_school_types"
   ]
  },
  {
   "cell_type": "code",
   "execution_count": null,
   "id": "12d43204",
   "metadata": {},
   "outputs": [],
   "source": [
    "print (high_school_types)"
   ]
  },
  {
   "cell_type": "code",
   "execution_count": null,
   "id": "64221e8c",
   "metadata": {},
   "outputs": [],
   "source": [
    "print (high schools)"
   ]
  },
  {
   "cell_type": "code",
   "execution_count": null,
   "id": "47e454c3",
   "metadata": {},
   "outputs": [],
   "source": [
    "print (school)"
   ]
  },
  {
   "cell_type": "code",
   "execution_count": null,
   "id": "d788e37a",
   "metadata": {},
   "outputs": [],
   "source": [
    "print (school,2)"
   ]
  },
  {
   "cell_type": "code",
   "execution_count": null,
   "id": "03fc957f",
   "metadata": {},
   "outputs": [],
   "source": [
    "for school in high_schools:\n",
    "    print(school)"
   ]
  },
  {
   "cell_type": "code",
   "execution_count": null,
   "id": "ad228f9f",
   "metadata": {},
   "outputs": [],
   "source": []
  }
 ],
 "metadata": {
  "kernelspec": {
   "display_name": "PythonData",
   "language": "python",
   "name": "pythondata"
  },
  "language_info": {
   "codemirror_mode": {
    "name": "ipython",
    "version": 3
   },
   "file_extension": ".py",
   "mimetype": "text/x-python",
   "name": "python",
   "nbconvert_exporter": "python",
   "pygments_lexer": "ipython3",
   "version": "3.7.11"
  }
 },
 "nbformat": 4,
 "nbformat_minor": 5
}
